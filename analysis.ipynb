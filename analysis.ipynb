{
 "cells": [
  {
   "cell_type": "markdown",
   "id": "inclusive-manchester",
   "metadata": {
    "_cell_guid": "feeabaef-2405-4000-912d-19ab6a3018f8",
    "_uuid": "fea909ec-c82f-4971-9070-fcc02961a32c",
    "execution": {
     "iopub.execute_input": "2021-05-22T15:44:51.57837Z",
     "iopub.status.busy": "2021-05-22T15:44:51.577765Z",
     "iopub.status.idle": "2021-05-22T15:44:51.592943Z",
     "shell.execute_reply": "2021-05-22T15:44:51.591483Z",
     "shell.execute_reply.started": "2021-05-22T15:44:51.578239Z"
    },
    "papermill": {
     "duration": 0.024664,
     "end_time": "2021-07-09T05:00:53.834580",
     "exception": false,
     "start_time": "2021-07-09T05:00:53.809916",
     "status": "completed"
    },
    "tags": []
   },
   "source": [
    "# Introduction\n",
    "\n",
    "This case study serves as the Capstone Project for the Google Data Analytics Professional Certificate program, utilizing the renowned framework of the 6 Steps of Data Analysis to present a comprehensive analysis.\n",
    "\n",
    "## Title: Bellabeat Fitness Tracking App Analysis\n",
    "\n",
    "## Bellabeat: How Can A Wellness Technology Company Play It Smart?\n",
    "\n",
    "# Step 1: Ask\n",
    "\n",
    "## 1.0 Background\n",
    "\n",
    "Bellabeat, established in 2013, is a leading high-tech manufacturer specializing in elegantly designed health-focused smart products tailored for women. With a mission to inspire and empower women by providing insights into their health and habits, Bellabeat has rapidly evolved into a technology-driven wellness company catering exclusively to the female demographic.\n",
    "\n",
    "The co-founder and Chief Creative Officer, Urška Sršen, perceives an opportunity to leverage non-Bellabeat consumer data, particularly FitBit fitness tracker usage data, to unearth potential avenues for growth.\n",
    "\n",
    "## 1.2 Business Task:\n",
    "\n",
    "The primary objective is to analyze FitBit Fitness Tracker Data to extract actionable insights regarding consumer behavior within the FitBit app ecosystem, thereby informing Bellabeat's marketing strategy.\n",
    "\n",
    "## 1.3 Business Objectives:\n",
    "\n",
    "1. Identify prevailing trends within the FitBit user base.\n",
    "2. Assess the applicability of these trends to Bellabeat's customer demographic.\n",
    "3. Utilize identified trends to shape and optimize Bellabeat's marketing strategy.\n",
    "\n",
    "## 1.4 Deliverables:\n",
    "\n",
    "1. A comprehensive overview of the business task.\n",
    "2. Documentation detailing all utilized data sources.\n",
    "3. Transparent disclosure of any data cleaning or manipulation procedures.\n",
    "4. A succinct summary of the analysis findings.\n",
    "5. Visual representations and key insights derived from the analysis.\n",
    "6. Strategic content recommendations grounded in the analytical outcomes.\n",
    "\n",
    "## 1.5 Key Stakeholders:\n",
    "\n",
    "1. Urška Sršen: Co-founder and Chief Creative Officer at Bellabeat.\n",
    "2. Sando Mur: Co-founder and key member of Bellabeat's executive team.\n",
    "3. Bellabeat Marketing Analytics Team: A dedicated group of data analysts responsible for steering Bellabeat's marketing endeavors.\n",
    "\n",
    "# Step 2: Prepare\n",
    "\n",
    "## 2.1 Information on Data Source:\n",
    "\n",
    "1. The dataset is publicly available on [Kaggle: FitBit Fitness Tracker Data](https://www.kaggle.com/arashnic/fitbit) and comprises 18 CSV files.\n",
    "2. Data was sourced from respondents participating in a distributed survey via Amazon Mechanical Turk spanning from 12th March 2016 to 12th May 2016.\n",
    "3. The dataset encompasses records from 30 FitBit users who consented to the submission of personal tracker data.\n",
    "4. Data variables include physical activity duration, heart rate, sleep patterns, daily activity metrics, and step counts.\n",
    "\n",
    "## 2.2 Limitations of Data Set:\n",
    "\n",
    "1. The data originates from the year 2016, potentially rendering it outdated and incongruent with current consumer behaviors and trends.\n",
    "2. The sample size of 30 female FitBit users may not be representative of the broader female population.\n",
    "3. As the data is sourced from a survey, the integrity and accuracy of the data cannot be guaranteed.\n",
    "\n",
    "## 2.3 Is Data ROCCC?\n",
    "\n",
    "A reliable dataset adheres to the principles of ROCCC: Reliable, Original, Comprehensive, Current, and Cited.\n",
    "\n",
    "1. Reliable - Low: Limited reliability due to the small sample size of 30 respondents.\n",
    "2. Original - Low: Sourced from a third-party provider, Amazon Mechanical Turk.\n",
    "3. Comprehensive - Medium: Parameters moderately align with Bellabeat's product offerings.\n",
    "4. Current - Low: The dataset is five years old and may lack relevance to present-day scenarios.\n",
    "5. Cited - Low: Data sourced from a third-party platform lacks full traceability.\n",
    "\n",
    "Overall, the dataset is deemed of poor quality, and drawing substantial business recommendations from it is cautioned against.\n",
    "\n",
    "## 2.4 Data Selection:\n",
    "\n",
    "The dataset selected for analysis is the `dailyActivity_merged.csv` file."
   ]
  },
  {
   "cell_type": "markdown",
   "id": "amber-queen",
   "metadata": {
    "_cell_guid": "38859931-1e88-4365-9514-3ba368222cb5",
    "_uuid": "07d219e0-c65f-478c-9734-cb6cdc62a992",
    "papermill": {
     "duration": 0.022309,
     "end_time": "2021-07-09T05:00:53.879819",
     "exception": false,
     "start_time": "2021-07-09T05:00:53.857510",
     "status": "completed"
    },
    "tags": []
   },
   "source": [
    "# Step 3: Process\n",
    "\n",
    "We have opted to utilize Python for data preparation and processing.\n",
    "\n",
    "## 3.1 Preparing the Environment\n",
    "\n",
    "To facilitate seamless data handling, we have installed and aliased the following packages:\n",
    "\n",
    "- **NumPy**: A fundamental package for numerical computing in Python.\n",
    "- **Pandas**: An essential library for data manipulation and analysis.\n",
    "- **Matplotlib**: A versatile plotting library for generating visualizations.\n",
    "- **Datetime**: A module enabling efficient handling of dates and times in Python."
   ]
  },
  {
   "cell_type": "code",
   "execution_count": 1,
   "id": "labeled-helmet",
   "metadata": {
    "_cell_guid": "53bedab9-16e6-459a-b3ce-e0c6449b246f",
    "_uuid": "27e4f97b-1e17-462c-9cfe-d044b42cc1a7",
    "collapsed": false,
    "execution": {
     "iopub.execute_input": "2021-07-09T05:00:53.934508Z",
     "iopub.status.busy": "2021-07-09T05:00:53.933929Z",
     "iopub.status.idle": "2021-07-09T05:00:53.936961Z",
     "shell.execute_reply": "2021-07-09T05:00:53.936299Z",
     "shell.execute_reply.started": "2021-07-09T05:00:04.624347Z"
    },
    "jupyter": {
     "outputs_hidden": false
    },
    "papermill": {
     "duration": 0.034709,
     "end_time": "2021-07-09T05:00:53.937136",
     "exception": false,
     "start_time": "2021-07-09T05:00:53.902427",
     "status": "completed"
    },
    "tags": []
   },
   "outputs": [],
   "source": [
    "# import packages and alias\n",
    "import numpy as np # data arrays\n",
    "import pandas as pd # data structure and data analysis\n",
    "import matplotlib as plt # data visualization\n",
    "import datetime as dt # date time"
   ]
  },
  {
   "cell_type": "markdown",
   "id": "incomplete-serve",
   "metadata": {
    "papermill": {
     "duration": 0.022413,
     "end_time": "2021-07-09T05:00:54.027500",
     "exception": false,
     "start_time": "2021-07-09T05:00:54.005087",
     "status": "completed"
    },
    "tags": []
   },
   "source": [
    "#### 3.2 Importing the Dataset\n",
    "\n",
    "We proceed by reading in the selected file for analysis."
   ]
  },
  {
   "cell_type": "code",
   "execution_count": 6,
   "id": "drawn-senator",
   "metadata": {
    "_cell_guid": "7b95c099-c3e8-46f8-b60b-cbfaac7c3cd2",
    "_uuid": "c67360eb-49d0-4d8c-b436-ae473e3c7623",
    "collapsed": false,
    "execution": {
     "iopub.execute_input": "2021-07-09T05:00:54.077932Z",
     "iopub.status.busy": "2021-07-09T05:00:54.077310Z",
     "iopub.status.idle": "2021-07-09T05:00:54.102755Z",
     "shell.execute_reply": "2021-07-09T05:00:54.102214Z",
     "shell.execute_reply.started": "2021-07-09T05:00:04.638259Z"
    },
    "jupyter": {
     "outputs_hidden": false
    },
    "papermill": {
     "duration": 0.052581,
     "end_time": "2021-07-09T05:00:54.102905",
     "exception": false,
     "start_time": "2021-07-09T05:00:54.050324",
     "status": "completed"
    },
    "tags": []
   },
   "outputs": [],
   "source": [
    "import os\n",
    "import pandas as pd\n",
    "\n",
    "# Current working directory (usually the folder where you started Jupyter)\n",
    "cwd = os.getcwd()\n",
    "\n",
    "file_path = os.path.join(cwd, \"data\", \"dailyActivity_merged.csv\")\n",
    "daily_activity = pd.read_csv(file_path)\n"
   ]
  },
  {
   "cell_type": "markdown",
   "id": "operating-biology",
   "metadata": {
    "_cell_guid": "7d80d7cf-e7f6-4951-9a8d-ec20258a2f2f",
    "_uuid": "23415393-9f2d-48ff-9cf7-9b56d0b9d2fc",
    "papermill": {
     "duration": 0.022429,
     "end_time": "2021-07-09T05:00:54.148159",
     "exception": false,
     "start_time": "2021-07-09T05:00:54.125730",
     "status": "completed"
    },
    "tags": []
   },
   "source": [
    "#### 3.3 Data Cleaning and Manipulation\n",
    "\n",
    "To ensure the integrity and reliability of our analysis, we undertake meticulous data cleaning and manipulation procedures. The following steps outline our approach:\n",
    "\n",
    "##### Steps:\n",
    "\n",
    "1. **Observe and Familiarize with Data**:\n",
    "   - Thoroughly examine the dataset to gain a comprehensive understanding of its structure, variables, and potential anomalies.\n",
    "\n",
    "2. **Check for Null or Missing Values**:\n",
    "   - Conduct a systematic assessment to identify and address any instances of missing or null values within the dataset.\n",
    "\n",
    "3. **Perform Sanity Check of Data**:\n",
    "   - Validate the dataset against predefined criteria to ascertain its coherence and reliability. This involves verifying the consistency and plausibility of the data entries."
   ]
  },
  {
   "cell_type": "markdown",
   "id": "personal-helmet",
   "metadata": {
    "papermill": {
     "duration": 0.022295,
     "end_time": "2021-07-09T05:00:54.193236",
     "exception": false,
     "start_time": "2021-07-09T05:00:54.170941",
     "status": "completed"
    },
    "tags": []
   },
   "source": [
    "To familiarize ourselves with the structure and content of the dataset, we employ the `head()` function to preview the first 10 rows of the `daily_activity` dataset. This allows us to gain insights into the data's format and contents."
   ]
  },
  {
   "cell_type": "code",
   "execution_count": 7,
   "id": "collectible-country",
   "metadata": {
    "_cell_guid": "4126117c-5d8d-47f5-be26-ad0ef695ec29",
    "_uuid": "941abfee-ce91-435a-9a7f-22e129b45d30",
    "collapsed": false,
    "execution": {
     "iopub.execute_input": "2021-07-09T05:00:54.250511Z",
     "iopub.status.busy": "2021-07-09T05:00:54.249724Z",
     "iopub.status.idle": "2021-07-09T05:00:54.278117Z",
     "shell.execute_reply": "2021-07-09T05:00:54.278594Z",
     "shell.execute_reply.started": "2021-07-09T05:00:04.698951Z"
    },
    "jupyter": {
     "outputs_hidden": false
    },
    "papermill": {
     "duration": 0.062841,
     "end_time": "2021-07-09T05:00:54.278767",
     "exception": false,
     "start_time": "2021-07-09T05:00:54.215926",
     "status": "completed"
    },
    "tags": []
   },
   "outputs": [
    {
     "data": {
      "text/html": [
       "<div>\n",
       "<style scoped>\n",
       "    .dataframe tbody tr th:only-of-type {\n",
       "        vertical-align: middle;\n",
       "    }\n",
       "\n",
       "    .dataframe tbody tr th {\n",
       "        vertical-align: top;\n",
       "    }\n",
       "\n",
       "    .dataframe thead th {\n",
       "        text-align: right;\n",
       "    }\n",
       "</style>\n",
       "<table border=\"1\" class=\"dataframe\">\n",
       "  <thead>\n",
       "    <tr style=\"text-align: right;\">\n",
       "      <th></th>\n",
       "      <th>Id</th>\n",
       "      <th>ActivityDate</th>\n",
       "      <th>TotalSteps</th>\n",
       "      <th>TotalDistance</th>\n",
       "      <th>TrackerDistance</th>\n",
       "      <th>LoggedActivitiesDistance</th>\n",
       "      <th>VeryActiveDistance</th>\n",
       "      <th>ModeratelyActiveDistance</th>\n",
       "      <th>LightActiveDistance</th>\n",
       "      <th>SedentaryActiveDistance</th>\n",
       "      <th>VeryActiveMinutes</th>\n",
       "      <th>FairlyActiveMinutes</th>\n",
       "      <th>LightlyActiveMinutes</th>\n",
       "      <th>SedentaryMinutes</th>\n",
       "      <th>Calories</th>\n",
       "    </tr>\n",
       "  </thead>\n",
       "  <tbody>\n",
       "    <tr>\n",
       "      <th>0</th>\n",
       "      <td>1503960366</td>\n",
       "      <td>3/25/2016</td>\n",
       "      <td>11004</td>\n",
       "      <td>7.11</td>\n",
       "      <td>7.11</td>\n",
       "      <td>0.0</td>\n",
       "      <td>2.57</td>\n",
       "      <td>0.46</td>\n",
       "      <td>4.07</td>\n",
       "      <td>0.0</td>\n",
       "      <td>33</td>\n",
       "      <td>12</td>\n",
       "      <td>205</td>\n",
       "      <td>804</td>\n",
       "      <td>1819</td>\n",
       "    </tr>\n",
       "    <tr>\n",
       "      <th>1</th>\n",
       "      <td>1503960366</td>\n",
       "      <td>3/26/2016</td>\n",
       "      <td>17609</td>\n",
       "      <td>11.55</td>\n",
       "      <td>11.55</td>\n",
       "      <td>0.0</td>\n",
       "      <td>6.92</td>\n",
       "      <td>0.73</td>\n",
       "      <td>3.91</td>\n",
       "      <td>0.0</td>\n",
       "      <td>89</td>\n",
       "      <td>17</td>\n",
       "      <td>274</td>\n",
       "      <td>588</td>\n",
       "      <td>2154</td>\n",
       "    </tr>\n",
       "    <tr>\n",
       "      <th>2</th>\n",
       "      <td>1503960366</td>\n",
       "      <td>3/27/2016</td>\n",
       "      <td>12736</td>\n",
       "      <td>8.53</td>\n",
       "      <td>8.53</td>\n",
       "      <td>0.0</td>\n",
       "      <td>4.66</td>\n",
       "      <td>0.16</td>\n",
       "      <td>3.71</td>\n",
       "      <td>0.0</td>\n",
       "      <td>56</td>\n",
       "      <td>5</td>\n",
       "      <td>268</td>\n",
       "      <td>605</td>\n",
       "      <td>1944</td>\n",
       "    </tr>\n",
       "    <tr>\n",
       "      <th>3</th>\n",
       "      <td>1503960366</td>\n",
       "      <td>3/28/2016</td>\n",
       "      <td>13231</td>\n",
       "      <td>8.93</td>\n",
       "      <td>8.93</td>\n",
       "      <td>0.0</td>\n",
       "      <td>3.19</td>\n",
       "      <td>0.79</td>\n",
       "      <td>4.95</td>\n",
       "      <td>0.0</td>\n",
       "      <td>39</td>\n",
       "      <td>20</td>\n",
       "      <td>224</td>\n",
       "      <td>1080</td>\n",
       "      <td>1932</td>\n",
       "    </tr>\n",
       "    <tr>\n",
       "      <th>4</th>\n",
       "      <td>1503960366</td>\n",
       "      <td>3/29/2016</td>\n",
       "      <td>12041</td>\n",
       "      <td>7.85</td>\n",
       "      <td>7.85</td>\n",
       "      <td>0.0</td>\n",
       "      <td>2.16</td>\n",
       "      <td>1.09</td>\n",
       "      <td>4.61</td>\n",
       "      <td>0.0</td>\n",
       "      <td>28</td>\n",
       "      <td>28</td>\n",
       "      <td>243</td>\n",
       "      <td>763</td>\n",
       "      <td>1886</td>\n",
       "    </tr>\n",
       "    <tr>\n",
       "      <th>5</th>\n",
       "      <td>1503960366</td>\n",
       "      <td>3/30/2016</td>\n",
       "      <td>10970</td>\n",
       "      <td>7.16</td>\n",
       "      <td>7.16</td>\n",
       "      <td>0.0</td>\n",
       "      <td>2.36</td>\n",
       "      <td>0.51</td>\n",
       "      <td>4.29</td>\n",
       "      <td>0.0</td>\n",
       "      <td>30</td>\n",
       "      <td>13</td>\n",
       "      <td>223</td>\n",
       "      <td>1174</td>\n",
       "      <td>1820</td>\n",
       "    </tr>\n",
       "    <tr>\n",
       "      <th>6</th>\n",
       "      <td>1503960366</td>\n",
       "      <td>3/31/2016</td>\n",
       "      <td>12256</td>\n",
       "      <td>7.86</td>\n",
       "      <td>7.86</td>\n",
       "      <td>0.0</td>\n",
       "      <td>2.29</td>\n",
       "      <td>0.49</td>\n",
       "      <td>5.04</td>\n",
       "      <td>0.0</td>\n",
       "      <td>33</td>\n",
       "      <td>12</td>\n",
       "      <td>239</td>\n",
       "      <td>820</td>\n",
       "      <td>1889</td>\n",
       "    </tr>\n",
       "    <tr>\n",
       "      <th>7</th>\n",
       "      <td>1503960366</td>\n",
       "      <td>4/1/2016</td>\n",
       "      <td>12262</td>\n",
       "      <td>7.87</td>\n",
       "      <td>7.87</td>\n",
       "      <td>0.0</td>\n",
       "      <td>3.32</td>\n",
       "      <td>0.83</td>\n",
       "      <td>3.64</td>\n",
       "      <td>0.0</td>\n",
       "      <td>47</td>\n",
       "      <td>21</td>\n",
       "      <td>200</td>\n",
       "      <td>866</td>\n",
       "      <td>1868</td>\n",
       "    </tr>\n",
       "    <tr>\n",
       "      <th>8</th>\n",
       "      <td>1503960366</td>\n",
       "      <td>4/2/2016</td>\n",
       "      <td>11248</td>\n",
       "      <td>7.25</td>\n",
       "      <td>7.25</td>\n",
       "      <td>0.0</td>\n",
       "      <td>3.00</td>\n",
       "      <td>0.45</td>\n",
       "      <td>3.74</td>\n",
       "      <td>0.0</td>\n",
       "      <td>40</td>\n",
       "      <td>11</td>\n",
       "      <td>244</td>\n",
       "      <td>636</td>\n",
       "      <td>1843</td>\n",
       "    </tr>\n",
       "    <tr>\n",
       "      <th>9</th>\n",
       "      <td>1503960366</td>\n",
       "      <td>4/3/2016</td>\n",
       "      <td>10016</td>\n",
       "      <td>6.37</td>\n",
       "      <td>6.37</td>\n",
       "      <td>0.0</td>\n",
       "      <td>0.91</td>\n",
       "      <td>1.28</td>\n",
       "      <td>4.18</td>\n",
       "      <td>0.0</td>\n",
       "      <td>15</td>\n",
       "      <td>30</td>\n",
       "      <td>314</td>\n",
       "      <td>655</td>\n",
       "      <td>1850</td>\n",
       "    </tr>\n",
       "  </tbody>\n",
       "</table>\n",
       "</div>"
      ],
      "text/plain": [
       "           Id ActivityDate  TotalSteps  TotalDistance  TrackerDistance  \\\n",
       "0  1503960366    3/25/2016       11004           7.11             7.11   \n",
       "1  1503960366    3/26/2016       17609          11.55            11.55   \n",
       "2  1503960366    3/27/2016       12736           8.53             8.53   \n",
       "3  1503960366    3/28/2016       13231           8.93             8.93   \n",
       "4  1503960366    3/29/2016       12041           7.85             7.85   \n",
       "5  1503960366    3/30/2016       10970           7.16             7.16   \n",
       "6  1503960366    3/31/2016       12256           7.86             7.86   \n",
       "7  1503960366     4/1/2016       12262           7.87             7.87   \n",
       "8  1503960366     4/2/2016       11248           7.25             7.25   \n",
       "9  1503960366     4/3/2016       10016           6.37             6.37   \n",
       "\n",
       "   LoggedActivitiesDistance  VeryActiveDistance  ModeratelyActiveDistance  \\\n",
       "0                       0.0                2.57                      0.46   \n",
       "1                       0.0                6.92                      0.73   \n",
       "2                       0.0                4.66                      0.16   \n",
       "3                       0.0                3.19                      0.79   \n",
       "4                       0.0                2.16                      1.09   \n",
       "5                       0.0                2.36                      0.51   \n",
       "6                       0.0                2.29                      0.49   \n",
       "7                       0.0                3.32                      0.83   \n",
       "8                       0.0                3.00                      0.45   \n",
       "9                       0.0                0.91                      1.28   \n",
       "\n",
       "   LightActiveDistance  SedentaryActiveDistance  VeryActiveMinutes  \\\n",
       "0                 4.07                      0.0                 33   \n",
       "1                 3.91                      0.0                 89   \n",
       "2                 3.71                      0.0                 56   \n",
       "3                 4.95                      0.0                 39   \n",
       "4                 4.61                      0.0                 28   \n",
       "5                 4.29                      0.0                 30   \n",
       "6                 5.04                      0.0                 33   \n",
       "7                 3.64                      0.0                 47   \n",
       "8                 3.74                      0.0                 40   \n",
       "9                 4.18                      0.0                 15   \n",
       "\n",
       "   FairlyActiveMinutes  LightlyActiveMinutes  SedentaryMinutes  Calories  \n",
       "0                   12                   205               804      1819  \n",
       "1                   17                   274               588      2154  \n",
       "2                    5                   268               605      1944  \n",
       "3                   20                   224              1080      1932  \n",
       "4                   28                   243               763      1886  \n",
       "5                   13                   223              1174      1820  \n",
       "6                   12                   239               820      1889  \n",
       "7                   21                   200               866      1868  \n",
       "8                   11                   244               636      1843  \n",
       "9                   30                   314               655      1850  "
      ]
     },
     "execution_count": 7,
     "metadata": {},
     "output_type": "execute_result"
    }
   ],
   "source": [
    "# preview first 10 rows with all columns\n",
    "daily_activity.head(10)"
   ]
  },
  {
   "cell_type": "markdown",
   "id": "indie-windows",
   "metadata": {
    "papermill": {
     "duration": 0.023195,
     "end_time": "2021-07-09T05:00:54.325817",
     "exception": false,
     "start_time": "2021-07-09T05:00:54.302622",
     "status": "completed"
    },
    "tags": []
   },
   "source": [
    "To identify null or missing values within the `daily_activity` dataset, we can utilize Pandas' `isnull()` function in conjunction with the `sum()` function to obtain a count of null values for each column. This process will help us assess the completeness of our dataset."
   ]
  },
  {
   "cell_type": "code",
   "execution_count": 8,
   "id": "stunning-lincoln",
   "metadata": {
    "_cell_guid": "af5c7249-a592-4e10-bacd-4188ce32fabc",
    "_uuid": "29266e28-766a-41e4-bd3f-1c945baea3bb",
    "collapsed": false,
    "execution": {
     "iopub.execute_input": "2021-07-09T05:00:54.380669Z",
     "iopub.status.busy": "2021-07-09T05:00:54.379945Z",
     "iopub.status.idle": "2021-07-09T05:00:54.383024Z",
     "shell.execute_reply": "2021-07-09T05:00:54.382488Z",
     "shell.execute_reply.started": "2021-07-09T05:00:04.740277Z"
    },
    "jupyter": {
     "outputs_hidden": false
    },
    "papermill": {
     "duration": 0.033758,
     "end_time": "2021-07-09T05:00:54.383172",
     "exception": false,
     "start_time": "2021-07-09T05:00:54.349414",
     "status": "completed"
    },
    "tags": []
   },
   "outputs": [
    {
     "data": {
      "text/plain": [
       "Id                          0\n",
       "ActivityDate                0\n",
       "TotalSteps                  0\n",
       "TotalDistance               0\n",
       "TrackerDistance             0\n",
       "LoggedActivitiesDistance    0\n",
       "VeryActiveDistance          0\n",
       "ModeratelyActiveDistance    0\n",
       "LightActiveDistance         0\n",
       "SedentaryActiveDistance     0\n",
       "VeryActiveMinutes           0\n",
       "FairlyActiveMinutes         0\n",
       "LightlyActiveMinutes        0\n",
       "SedentaryMinutes            0\n",
       "Calories                    0\n",
       "dtype: int64"
      ]
     },
     "execution_count": 8,
     "metadata": {},
     "output_type": "execute_result"
    }
   ],
   "source": [
    "# obtain the # of missing data points per column\n",
    "missing_values_count = daily_activity.isnull().sum()\n",
    "\n",
    "# look at the # of missing points in all columns\n",
    "missing_values_count[:]"
   ]
  },
  {
   "cell_type": "markdown",
   "id": "racial-veteran",
   "metadata": {
    "papermill": {
     "duration": 0.023496,
     "end_time": "2021-07-09T05:00:54.430903",
     "exception": false,
     "start_time": "2021-07-09T05:00:54.407407",
     "status": "completed"
    },
    "tags": []
   },
   "source": [
    "To obtain basic information about the `daily_activity` dataset, we can utilize the `info()` method provided by Pandas DataFrame. This method provides a concise summary of the dataset, including the number of rows and columns, column names, and data types of each column."
   ]
  },
  {
   "cell_type": "code",
   "execution_count": 9,
   "id": "lightweight-brighton",
   "metadata": {
    "_cell_guid": "72b6f724-a60c-4e0d-b627-e1bfdc7ed820",
    "_uuid": "a611da02-43f1-4e0c-ab2a-1f1a648a329d",
    "collapsed": false,
    "execution": {
     "iopub.execute_input": "2021-07-09T05:00:54.499055Z",
     "iopub.status.busy": "2021-07-09T05:00:54.498448Z",
     "iopub.status.idle": "2021-07-09T05:00:54.502355Z",
     "shell.execute_reply": "2021-07-09T05:00:54.501741Z",
     "shell.execute_reply.started": "2021-07-09T05:00:04.751994Z"
    },
    "jupyter": {
     "outputs_hidden": false
    },
    "papermill": {
     "duration": 0.047788,
     "end_time": "2021-07-09T05:00:54.502511",
     "exception": false,
     "start_time": "2021-07-09T05:00:54.454723",
     "status": "completed"
    },
    "tags": []
   },
   "outputs": [
    {
     "name": "stdout",
     "output_type": "stream",
     "text": [
      "<class 'pandas.core.frame.DataFrame'>\n",
      "RangeIndex: 457 entries, 0 to 456\n",
      "Data columns (total 15 columns):\n",
      " #   Column                    Non-Null Count  Dtype  \n",
      "---  ------                    --------------  -----  \n",
      " 0   Id                        457 non-null    int64  \n",
      " 1   ActivityDate              457 non-null    object \n",
      " 2   TotalSteps                457 non-null    int64  \n",
      " 3   TotalDistance             457 non-null    float64\n",
      " 4   TrackerDistance           457 non-null    float64\n",
      " 5   LoggedActivitiesDistance  457 non-null    float64\n",
      " 6   VeryActiveDistance        457 non-null    float64\n",
      " 7   ModeratelyActiveDistance  457 non-null    float64\n",
      " 8   LightActiveDistance       457 non-null    float64\n",
      " 9   SedentaryActiveDistance   457 non-null    float64\n",
      " 10  VeryActiveMinutes         457 non-null    int64  \n",
      " 11  FairlyActiveMinutes       457 non-null    int64  \n",
      " 12  LightlyActiveMinutes      457 non-null    int64  \n",
      " 13  SedentaryMinutes          457 non-null    int64  \n",
      " 14  Calories                  457 non-null    int64  \n",
      "dtypes: float64(7), int64(7), object(1)\n",
      "memory usage: 53.7+ KB\n"
     ]
    }
   ],
   "source": [
    "# show basic information of data\n",
    "daily_activity.info()"
   ]
  },
  {
   "cell_type": "markdown",
   "id": "collect-fitting",
   "metadata": {
    "papermill": {
     "duration": 0.024216,
     "end_time": "2021-07-09T05:00:54.551283",
     "exception": false,
     "start_time": "2021-07-09T05:00:54.527067",
     "status": "completed"
    },
    "tags": []
   },
   "source": [
    "To verify the uniqueness of IDs within the `daily_activity` dataset and confirm if there are indeed 30 unique IDs present, we can use the `nunique()` function in Pandas. This function will count the number of unique values in a specified column, in this case, the ID column. By comparing the count of unique IDs with the expected count of 30, we can confirm the integrity of our dataset."
   ]
  },
  {
   "cell_type": "code",
   "execution_count": 10,
   "id": "interim-columbia",
   "metadata": {
    "_cell_guid": "8eb47be2-82ac-414f-8366-c998f31a00c6",
    "_uuid": "254b3971-3932-467c-a82f-68f5800c5b7b",
    "collapsed": false,
    "execution": {
     "iopub.execute_input": "2021-07-09T05:00:54.606931Z",
     "iopub.status.busy": "2021-07-09T05:00:54.606367Z",
     "iopub.status.idle": "2021-07-09T05:00:54.609683Z",
     "shell.execute_reply": "2021-07-09T05:00:54.610069Z",
     "shell.execute_reply.started": "2021-07-09T05:00:04.781274Z"
    },
    "jupyter": {
     "outputs_hidden": false
    },
    "papermill": {
     "duration": 0.034599,
     "end_time": "2021-07-09T05:00:54.610261",
     "exception": false,
     "start_time": "2021-07-09T05:00:54.575662",
     "status": "completed"
    },
    "tags": []
   },
   "outputs": [
    {
     "name": "stdout",
     "output_type": "stream",
     "text": [
      "# of unique Id: 35\n"
     ]
    }
   ],
   "source": [
    "# count distinct value of \"Id\"\n",
    "unique_id = len(pd.unique(daily_activity[\"Id\"]))\n",
    "  \n",
    "print(\"# of unique Id: \" + str(unique_id))"
   ]
  },
  {
   "cell_type": "markdown",
   "id": "alert-privacy",
   "metadata": {
    "_cell_guid": "8af44964-74a0-4d17-88e9-ec09bcec6277",
    "_uuid": "ba96fa39-7a49-43d3-a056-9e6d7c4da0be",
    "papermill": {
     "duration": 0.029621,
     "end_time": "2021-07-09T05:00:54.664277",
     "exception": false,
     "start_time": "2021-07-09T05:00:54.634656",
     "status": "completed"
    },
    "tags": []
   },
   "source": [
    "Based on the observations made:\n",
    "\n",
    "1. No typographical errors, null, or missing values were found in the dataset.\n",
    "2. The dataframe consists of 940 rows and 15 columns.\n",
    "3. The `ActivityDate` column is erroneously classified as `object` dtype and should be converted to `datetime64` dtype for consistency and ease of manipulation.\n",
    "4. An unexpected discrepancy was found in the number of unique IDs, with 33 unique IDs instead of the expected 30. This deviation warrants further investigation to understand the underlying reasons for the disparity."
   ]
  },
  {
   "cell_type": "markdown",
   "id": "interested-filename",
   "metadata": {
    "_cell_guid": "220e6c03-37de-42e4-ac9b-47ade59e2af6",
    "_uuid": "8916b38a-020a-476a-a3b8-dcff57614da0",
    "papermill": {
     "duration": 0.041359,
     "end_time": "2021-07-09T05:00:54.743414",
     "exception": false,
     "start_time": "2021-07-09T05:00:54.702055",
     "status": "completed"
    },
    "tags": []
   },
   "source": [
    "The specified data manipulations are carried out as follows:\n",
    "\n",
    "1. The `ActivityDate` column is converted to `datetime64` dtype using the `pd.to_datetime()` function in Pandas.\n",
    "\n",
    "2. The format of the `ActivityDate` column is standardized to `yyyy-mm-dd`.\n",
    "\n",
    "3. A new column named `DayOfTheWeek` is created by extracting the day of the week from the `ActivityDate` column for further analysis.\n",
    "\n",
    "4. A new column named `TotalMins` is created, representing the sum of `VeryActiveMinutes`, `FairlyActiveMinutes`, `LightlyActiveMinutes`, and `SedentaryMinutes`.\n",
    "\n",
    "5. Another new column named `TotalHours` is created by converting the `TotalMins` column (in minutes) to the number of hours.\n",
    "\n",
    "6. Columns are rearranged and renamed as per the specified requirements."
   ]
  },
  {
   "cell_type": "markdown",
   "id": "hydraulic-hobby",
   "metadata": {
    "papermill": {
     "duration": 0.026294,
     "end_time": "2021-07-09T05:00:54.807092",
     "exception": false,
     "start_time": "2021-07-09T05:00:54.780798",
     "status": "completed"
    },
    "tags": []
   },
   "source": [
    "1. The `ActivityDate` column will be transformed from its current datatype of `object` to `datetime64` using the `pd.to_datetime()` function.\n",
    "2. Subsequently, the format of the `ActivityDate` column will be standardized to `yyyy-mm-dd`.\n",
    "\n",
    "After performing these transformations, we will confirm the changes by printing the head of the dataframe to ensure that the `ActivityDate` column has indeed been updated to `datetime64` dtype and that the dates have been formatted to `yyyy-mm-dd`."
   ]
  },
  {
   "cell_type": "code",
   "execution_count": 11,
   "id": "animal-antique",
   "metadata": {
    "_cell_guid": "10e0ae12-c842-4406-919d-ca947104d771",
    "_uuid": "29173d13-4135-4e6c-a37c-b833567073f7",
    "collapsed": false,
    "execution": {
     "iopub.execute_input": "2021-07-09T05:00:54.891828Z",
     "iopub.status.busy": "2021-07-09T05:00:54.891193Z",
     "iopub.status.idle": "2021-07-09T05:00:54.895891Z",
     "shell.execute_reply": "2021-07-09T05:00:54.896324Z",
     "shell.execute_reply.started": "2021-07-09T05:00:04.789260Z"
    },
    "jupyter": {
     "outputs_hidden": false
    },
    "papermill": {
     "duration": 0.062877,
     "end_time": "2021-07-09T05:00:54.896503",
     "exception": false,
     "start_time": "2021-07-09T05:00:54.833626",
     "status": "completed"
    },
    "tags": []
   },
   "outputs": [
    {
     "name": "stdout",
     "output_type": "stream",
     "text": [
      "<class 'pandas.core.frame.DataFrame'>\n",
      "RangeIndex: 457 entries, 0 to 456\n",
      "Data columns (total 15 columns):\n",
      " #   Column                    Non-Null Count  Dtype         \n",
      "---  ------                    --------------  -----         \n",
      " 0   Id                        457 non-null    int64         \n",
      " 1   ActivityDate              457 non-null    datetime64[ns]\n",
      " 2   TotalSteps                457 non-null    int64         \n",
      " 3   TotalDistance             457 non-null    float64       \n",
      " 4   TrackerDistance           457 non-null    float64       \n",
      " 5   LoggedActivitiesDistance  457 non-null    float64       \n",
      " 6   VeryActiveDistance        457 non-null    float64       \n",
      " 7   ModeratelyActiveDistance  457 non-null    float64       \n",
      " 8   LightActiveDistance       457 non-null    float64       \n",
      " 9   SedentaryActiveDistance   457 non-null    float64       \n",
      " 10  VeryActiveMinutes         457 non-null    int64         \n",
      " 11  FairlyActiveMinutes       457 non-null    int64         \n",
      " 12  LightlyActiveMinutes      457 non-null    int64         \n",
      " 13  SedentaryMinutes          457 non-null    int64         \n",
      " 14  Calories                  457 non-null    int64         \n",
      "dtypes: datetime64[ns](1), float64(7), int64(7)\n",
      "memory usage: 53.7 KB\n"
     ]
    },
    {
     "data": {
      "text/plain": [
       "0   2016-03-25\n",
       "1   2016-03-26\n",
       "2   2016-03-27\n",
       "3   2016-03-28\n",
       "4   2016-03-29\n",
       "Name: ActivityDate, dtype: datetime64[ns]"
      ]
     },
     "execution_count": 11,
     "metadata": {},
     "output_type": "execute_result"
    }
   ],
   "source": [
    "# convert \"ActivityDate\" to datatime64 dtype and format to yyyy-mm-dd\n",
    "daily_activity[\"ActivityDate\"] = pd.to_datetime(daily_activity[\"ActivityDate\"], format=\"%m/%d/%Y\")\n",
    "\n",
    "# re-print information to confirm\n",
    "daily_activity.info()\n",
    "\n",
    "# print the first 5 rows of \"ActivityDate\" to confirm\n",
    "daily_activity[\"ActivityDate\"].head()"
   ]
  },
  {
   "cell_type": "markdown",
   "id": "straight-blanket",
   "metadata": {
    "papermill": {
     "duration": 0.02448,
     "end_time": "2021-07-09T05:00:54.945557",
     "exception": false,
     "start_time": "2021-07-09T05:00:54.921077",
     "status": "completed"
    },
    "tags": []
   },
   "source": [
    "1. We will create a new list containing the rearranged column names as per your specifications.\n",
    "2. Then, we will rename the dataframe `daily_activity` to a shorter name, `df_activity`, for convenience.\n",
    "\n",
    "Let's proceed with these steps."
   ]
  },
  {
   "cell_type": "code",
   "execution_count": 12,
   "id": "sudden-hardwood",
   "metadata": {
    "_cell_guid": "24767d8e-4b12-4da5-8534-46e48373a946",
    "_uuid": "4032a725-60b2-4432-a496-8f89ca67e2e7",
    "collapsed": false,
    "execution": {
     "iopub.execute_input": "2021-07-09T05:00:55.023303Z",
     "iopub.status.busy": "2021-07-09T05:00:55.022351Z",
     "iopub.status.idle": "2021-07-09T05:00:55.049443Z",
     "shell.execute_reply": "2021-07-09T05:00:55.048662Z",
     "shell.execute_reply.started": "2021-07-09T05:00:04.822647Z"
    },
    "jupyter": {
     "outputs_hidden": false
    },
    "papermill": {
     "duration": 0.071415,
     "end_time": "2021-07-09T05:00:55.049637",
     "exception": false,
     "start_time": "2021-07-09T05:00:54.978222",
     "status": "completed"
    },
    "tags": []
   },
   "outputs": [
    {
     "data": {
      "text/html": [
       "<div>\n",
       "<style scoped>\n",
       "    .dataframe tbody tr th:only-of-type {\n",
       "        vertical-align: middle;\n",
       "    }\n",
       "\n",
       "    .dataframe tbody tr th {\n",
       "        vertical-align: top;\n",
       "    }\n",
       "\n",
       "    .dataframe thead th {\n",
       "        text-align: right;\n",
       "    }\n",
       "</style>\n",
       "<table border=\"1\" class=\"dataframe\">\n",
       "  <thead>\n",
       "    <tr style=\"text-align: right;\">\n",
       "      <th></th>\n",
       "      <th>Id</th>\n",
       "      <th>ActivityDate</th>\n",
       "      <th>DayOfTheWeek</th>\n",
       "      <th>TotalSteps</th>\n",
       "      <th>TotalDistance</th>\n",
       "      <th>TrackerDistance</th>\n",
       "      <th>LoggedActivitiesDistance</th>\n",
       "      <th>VeryActiveDistance</th>\n",
       "      <th>ModeratelyActiveDistance</th>\n",
       "      <th>LightActiveDistance</th>\n",
       "      <th>SedentaryActiveDistance</th>\n",
       "      <th>VeryActiveMinutes</th>\n",
       "      <th>FairlyActiveMinutes</th>\n",
       "      <th>LightlyActiveMinutes</th>\n",
       "      <th>SedentaryMinutes</th>\n",
       "      <th>TotalExerciseMinutes</th>\n",
       "      <th>TotalExerciseHours</th>\n",
       "      <th>Calories</th>\n",
       "    </tr>\n",
       "  </thead>\n",
       "  <tbody>\n",
       "    <tr>\n",
       "      <th>0</th>\n",
       "      <td>1503960366</td>\n",
       "      <td>2016-03-25</td>\n",
       "      <td>NaN</td>\n",
       "      <td>11004</td>\n",
       "      <td>7.11</td>\n",
       "      <td>7.11</td>\n",
       "      <td>0.0</td>\n",
       "      <td>2.57</td>\n",
       "      <td>0.46</td>\n",
       "      <td>4.07</td>\n",
       "      <td>0.0</td>\n",
       "      <td>33</td>\n",
       "      <td>12</td>\n",
       "      <td>205</td>\n",
       "      <td>804</td>\n",
       "      <td>NaN</td>\n",
       "      <td>NaN</td>\n",
       "      <td>1819</td>\n",
       "    </tr>\n",
       "    <tr>\n",
       "      <th>1</th>\n",
       "      <td>1503960366</td>\n",
       "      <td>2016-03-26</td>\n",
       "      <td>NaN</td>\n",
       "      <td>17609</td>\n",
       "      <td>11.55</td>\n",
       "      <td>11.55</td>\n",
       "      <td>0.0</td>\n",
       "      <td>6.92</td>\n",
       "      <td>0.73</td>\n",
       "      <td>3.91</td>\n",
       "      <td>0.0</td>\n",
       "      <td>89</td>\n",
       "      <td>17</td>\n",
       "      <td>274</td>\n",
       "      <td>588</td>\n",
       "      <td>NaN</td>\n",
       "      <td>NaN</td>\n",
       "      <td>2154</td>\n",
       "    </tr>\n",
       "    <tr>\n",
       "      <th>2</th>\n",
       "      <td>1503960366</td>\n",
       "      <td>2016-03-27</td>\n",
       "      <td>NaN</td>\n",
       "      <td>12736</td>\n",
       "      <td>8.53</td>\n",
       "      <td>8.53</td>\n",
       "      <td>0.0</td>\n",
       "      <td>4.66</td>\n",
       "      <td>0.16</td>\n",
       "      <td>3.71</td>\n",
       "      <td>0.0</td>\n",
       "      <td>56</td>\n",
       "      <td>5</td>\n",
       "      <td>268</td>\n",
       "      <td>605</td>\n",
       "      <td>NaN</td>\n",
       "      <td>NaN</td>\n",
       "      <td>1944</td>\n",
       "    </tr>\n",
       "    <tr>\n",
       "      <th>3</th>\n",
       "      <td>1503960366</td>\n",
       "      <td>2016-03-28</td>\n",
       "      <td>NaN</td>\n",
       "      <td>13231</td>\n",
       "      <td>8.93</td>\n",
       "      <td>8.93</td>\n",
       "      <td>0.0</td>\n",
       "      <td>3.19</td>\n",
       "      <td>0.79</td>\n",
       "      <td>4.95</td>\n",
       "      <td>0.0</td>\n",
       "      <td>39</td>\n",
       "      <td>20</td>\n",
       "      <td>224</td>\n",
       "      <td>1080</td>\n",
       "      <td>NaN</td>\n",
       "      <td>NaN</td>\n",
       "      <td>1932</td>\n",
       "    </tr>\n",
       "    <tr>\n",
       "      <th>4</th>\n",
       "      <td>1503960366</td>\n",
       "      <td>2016-03-29</td>\n",
       "      <td>NaN</td>\n",
       "      <td>12041</td>\n",
       "      <td>7.85</td>\n",
       "      <td>7.85</td>\n",
       "      <td>0.0</td>\n",
       "      <td>2.16</td>\n",
       "      <td>1.09</td>\n",
       "      <td>4.61</td>\n",
       "      <td>0.0</td>\n",
       "      <td>28</td>\n",
       "      <td>28</td>\n",
       "      <td>243</td>\n",
       "      <td>763</td>\n",
       "      <td>NaN</td>\n",
       "      <td>NaN</td>\n",
       "      <td>1886</td>\n",
       "    </tr>\n",
       "  </tbody>\n",
       "</table>\n",
       "</div>"
      ],
      "text/plain": [
       "           Id ActivityDate  DayOfTheWeek  TotalSteps  TotalDistance  \\\n",
       "0  1503960366   2016-03-25           NaN       11004           7.11   \n",
       "1  1503960366   2016-03-26           NaN       17609          11.55   \n",
       "2  1503960366   2016-03-27           NaN       12736           8.53   \n",
       "3  1503960366   2016-03-28           NaN       13231           8.93   \n",
       "4  1503960366   2016-03-29           NaN       12041           7.85   \n",
       "\n",
       "   TrackerDistance  LoggedActivitiesDistance  VeryActiveDistance  \\\n",
       "0             7.11                       0.0                2.57   \n",
       "1            11.55                       0.0                6.92   \n",
       "2             8.53                       0.0                4.66   \n",
       "3             8.93                       0.0                3.19   \n",
       "4             7.85                       0.0                2.16   \n",
       "\n",
       "   ModeratelyActiveDistance  LightActiveDistance  SedentaryActiveDistance  \\\n",
       "0                      0.46                 4.07                      0.0   \n",
       "1                      0.73                 3.91                      0.0   \n",
       "2                      0.16                 3.71                      0.0   \n",
       "3                      0.79                 4.95                      0.0   \n",
       "4                      1.09                 4.61                      0.0   \n",
       "\n",
       "   VeryActiveMinutes  FairlyActiveMinutes  LightlyActiveMinutes  \\\n",
       "0                 33                   12                   205   \n",
       "1                 89                   17                   274   \n",
       "2                 56                    5                   268   \n",
       "3                 39                   20                   224   \n",
       "4                 28                   28                   243   \n",
       "\n",
       "   SedentaryMinutes  TotalExerciseMinutes  TotalExerciseHours  Calories  \n",
       "0               804                   NaN                 NaN      1819  \n",
       "1               588                   NaN                 NaN      2154  \n",
       "2               605                   NaN                 NaN      1944  \n",
       "3              1080                   NaN                 NaN      1932  \n",
       "4               763                   NaN                 NaN      1886  "
      ]
     },
     "execution_count": 12,
     "metadata": {},
     "output_type": "execute_result"
    }
   ],
   "source": [
    "#r create new list of rearranged columns\n",
    "new_cols = ['Id', 'ActivityDate', 'DayOfTheWeek', 'TotalSteps', 'TotalDistance', 'TrackerDistance', 'LoggedActivitiesDistance', 'VeryActiveDistance', 'ModeratelyActiveDistance', 'LightActiveDistance', 'SedentaryActiveDistance', 'VeryActiveMinutes', 'FairlyActiveMinutes', 'LightlyActiveMinutes', 'SedentaryMinutes', 'TotalExerciseMinutes', 'TotalExerciseHours', 'Calories']\n",
    "\n",
    "# reindex function to rearrange columns based on \"new_cols\"\n",
    "df_activity = daily_activity.reindex(columns=new_cols)\n",
    "\n",
    "# print 1st 5 rows to confirm\n",
    "df_activity.head(5)"
   ]
  },
  {
   "cell_type": "markdown",
   "id": "continuous-collar",
   "metadata": {
    "papermill": {
     "duration": 0.025771,
     "end_time": "2021-07-09T05:00:55.108798",
     "exception": false,
     "start_time": "2021-07-09T05:00:55.083027",
     "status": "completed"
    },
    "tags": []
   },
   "source": [
    "To create a new column by extracting the day of the week from the `ActivityDate` column for further analysis, we can use the `dt.dayofweek` attribute of the datetime object in Pandas. This attribute returns an integer representing the day of the week, where Monday is 0 and Sunday is 6.\n",
    "\n",
    "We'll proceed to create the new column `DayOfTheWeek` using this attribute."
   ]
  },
  {
   "cell_type": "code",
   "execution_count": 13,
   "id": "italian-dialogue",
   "metadata": {
    "_cell_guid": "b4ce574a-e7fa-4743-abe4-838540fa29ce",
    "_uuid": "8b542b7a-5f83-4404-bcdb-f38ee25a3227",
    "collapsed": false,
    "execution": {
     "iopub.execute_input": "2021-07-09T05:00:55.171483Z",
     "iopub.status.busy": "2021-07-09T05:00:55.170608Z",
     "iopub.status.idle": "2021-07-09T05:00:55.174090Z",
     "shell.execute_reply": "2021-07-09T05:00:55.174667Z",
     "shell.execute_reply.started": "2021-07-09T05:00:04.849975Z"
    },
    "jupyter": {
     "outputs_hidden": false
    },
    "papermill": {
     "duration": 0.037797,
     "end_time": "2021-07-09T05:00:55.174829",
     "exception": false,
     "start_time": "2021-07-09T05:00:55.137032",
     "status": "completed"
    },
    "tags": []
   },
   "outputs": [
    {
     "data": {
      "text/plain": [
       "0      Friday\n",
       "1    Saturday\n",
       "2      Sunday\n",
       "3      Monday\n",
       "4     Tuesday\n",
       "Name: DayOfTheWeek, dtype: object"
      ]
     },
     "execution_count": 13,
     "metadata": {},
     "output_type": "execute_result"
    }
   ],
   "source": [
    "# create new column \"day_of_the_week\" to represent day of the week \n",
    "df_activity[\"DayOfTheWeek\"] = df_activity[\"ActivityDate\"].dt.day_name()\n",
    "\n",
    "# print 1st 5 rows to confirm\n",
    "df_activity[\"DayOfTheWeek\"].head(5)"
   ]
  },
  {
   "cell_type": "markdown",
   "id": "following-fantasy",
   "metadata": {
    "papermill": {
     "duration": 0.02556,
     "end_time": "2021-07-09T05:00:55.226054",
     "exception": false,
     "start_time": "2021-07-09T05:00:55.200494",
     "status": "completed"
    },
    "tags": []
   },
   "source": [
    "To rearrange and rename columns from the current format of `XxxYyy` to the desired format of `xxx_yyy`, we will employ string manipulation techniques to achieve this transformation. This involves converting column names to lowercase and inserting underscores between words where necessary.\n",
    "\n",
    "Let's proceed with rearranging and renaming the columns accordingly."
   ]
  },
  {
   "cell_type": "code",
   "execution_count": 14,
   "id": "herbal-guyana",
   "metadata": {
    "execution": {
     "iopub.execute_input": "2021-07-09T05:00:55.281083Z",
     "iopub.status.busy": "2021-07-09T05:00:55.280214Z",
     "iopub.status.idle": "2021-07-09T05:00:55.304703Z",
     "shell.execute_reply": "2021-07-09T05:00:55.305505Z",
     "shell.execute_reply.started": "2021-07-09T05:00:04.859953Z"
    },
    "papermill": {
     "duration": 0.053641,
     "end_time": "2021-07-09T05:00:55.305708",
     "exception": false,
     "start_time": "2021-07-09T05:00:55.252067",
     "status": "completed"
    },
    "tags": []
   },
   "outputs": [
    {
     "name": "stdout",
     "output_type": "stream",
     "text": [
      "['id' 'date' 'day_of_the_week' 'total_steps' 'total_dist' 'track_dist'\n",
      " 'logged_dist' 'very_active_dist' 'moderate_active_dist'\n",
      " 'light_active_dist' 'sedentary_active_dist' 'very_active_mins'\n",
      " 'fairly_active_mins' 'lightly_active_mins' 'sedentary_mins' 'total_mins'\n",
      " 'total_hours' 'calories']\n"
     ]
    },
    {
     "data": {
      "text/html": [
       "<div>\n",
       "<style scoped>\n",
       "    .dataframe tbody tr th:only-of-type {\n",
       "        vertical-align: middle;\n",
       "    }\n",
       "\n",
       "    .dataframe tbody tr th {\n",
       "        vertical-align: top;\n",
       "    }\n",
       "\n",
       "    .dataframe thead th {\n",
       "        text-align: right;\n",
       "    }\n",
       "</style>\n",
       "<table border=\"1\" class=\"dataframe\">\n",
       "  <thead>\n",
       "    <tr style=\"text-align: right;\">\n",
       "      <th></th>\n",
       "      <th>id</th>\n",
       "      <th>date</th>\n",
       "      <th>day_of_the_week</th>\n",
       "      <th>total_steps</th>\n",
       "      <th>total_dist</th>\n",
       "      <th>track_dist</th>\n",
       "      <th>logged_dist</th>\n",
       "      <th>very_active_dist</th>\n",
       "      <th>moderate_active_dist</th>\n",
       "      <th>light_active_dist</th>\n",
       "      <th>sedentary_active_dist</th>\n",
       "      <th>very_active_mins</th>\n",
       "      <th>fairly_active_mins</th>\n",
       "      <th>lightly_active_mins</th>\n",
       "      <th>sedentary_mins</th>\n",
       "      <th>total_mins</th>\n",
       "      <th>total_hours</th>\n",
       "      <th>calories</th>\n",
       "    </tr>\n",
       "  </thead>\n",
       "  <tbody>\n",
       "    <tr>\n",
       "      <th>0</th>\n",
       "      <td>1503960366</td>\n",
       "      <td>2016-03-25</td>\n",
       "      <td>Friday</td>\n",
       "      <td>11004</td>\n",
       "      <td>7.11</td>\n",
       "      <td>7.11</td>\n",
       "      <td>0.0</td>\n",
       "      <td>2.57</td>\n",
       "      <td>0.46</td>\n",
       "      <td>4.07</td>\n",
       "      <td>0.0</td>\n",
       "      <td>33</td>\n",
       "      <td>12</td>\n",
       "      <td>205</td>\n",
       "      <td>804</td>\n",
       "      <td>NaN</td>\n",
       "      <td>NaN</td>\n",
       "      <td>1819</td>\n",
       "    </tr>\n",
       "    <tr>\n",
       "      <th>1</th>\n",
       "      <td>1503960366</td>\n",
       "      <td>2016-03-26</td>\n",
       "      <td>Saturday</td>\n",
       "      <td>17609</td>\n",
       "      <td>11.55</td>\n",
       "      <td>11.55</td>\n",
       "      <td>0.0</td>\n",
       "      <td>6.92</td>\n",
       "      <td>0.73</td>\n",
       "      <td>3.91</td>\n",
       "      <td>0.0</td>\n",
       "      <td>89</td>\n",
       "      <td>17</td>\n",
       "      <td>274</td>\n",
       "      <td>588</td>\n",
       "      <td>NaN</td>\n",
       "      <td>NaN</td>\n",
       "      <td>2154</td>\n",
       "    </tr>\n",
       "    <tr>\n",
       "      <th>2</th>\n",
       "      <td>1503960366</td>\n",
       "      <td>2016-03-27</td>\n",
       "      <td>Sunday</td>\n",
       "      <td>12736</td>\n",
       "      <td>8.53</td>\n",
       "      <td>8.53</td>\n",
       "      <td>0.0</td>\n",
       "      <td>4.66</td>\n",
       "      <td>0.16</td>\n",
       "      <td>3.71</td>\n",
       "      <td>0.0</td>\n",
       "      <td>56</td>\n",
       "      <td>5</td>\n",
       "      <td>268</td>\n",
       "      <td>605</td>\n",
       "      <td>NaN</td>\n",
       "      <td>NaN</td>\n",
       "      <td>1944</td>\n",
       "    </tr>\n",
       "    <tr>\n",
       "      <th>3</th>\n",
       "      <td>1503960366</td>\n",
       "      <td>2016-03-28</td>\n",
       "      <td>Monday</td>\n",
       "      <td>13231</td>\n",
       "      <td>8.93</td>\n",
       "      <td>8.93</td>\n",
       "      <td>0.0</td>\n",
       "      <td>3.19</td>\n",
       "      <td>0.79</td>\n",
       "      <td>4.95</td>\n",
       "      <td>0.0</td>\n",
       "      <td>39</td>\n",
       "      <td>20</td>\n",
       "      <td>224</td>\n",
       "      <td>1080</td>\n",
       "      <td>NaN</td>\n",
       "      <td>NaN</td>\n",
       "      <td>1932</td>\n",
       "    </tr>\n",
       "    <tr>\n",
       "      <th>4</th>\n",
       "      <td>1503960366</td>\n",
       "      <td>2016-03-29</td>\n",
       "      <td>Tuesday</td>\n",
       "      <td>12041</td>\n",
       "      <td>7.85</td>\n",
       "      <td>7.85</td>\n",
       "      <td>0.0</td>\n",
       "      <td>2.16</td>\n",
       "      <td>1.09</td>\n",
       "      <td>4.61</td>\n",
       "      <td>0.0</td>\n",
       "      <td>28</td>\n",
       "      <td>28</td>\n",
       "      <td>243</td>\n",
       "      <td>763</td>\n",
       "      <td>NaN</td>\n",
       "      <td>NaN</td>\n",
       "      <td>1886</td>\n",
       "    </tr>\n",
       "  </tbody>\n",
       "</table>\n",
       "</div>"
      ],
      "text/plain": [
       "           id       date day_of_the_week  total_steps  total_dist  track_dist  \\\n",
       "0  1503960366 2016-03-25          Friday        11004        7.11        7.11   \n",
       "1  1503960366 2016-03-26        Saturday        17609       11.55       11.55   \n",
       "2  1503960366 2016-03-27          Sunday        12736        8.53        8.53   \n",
       "3  1503960366 2016-03-28          Monday        13231        8.93        8.93   \n",
       "4  1503960366 2016-03-29         Tuesday        12041        7.85        7.85   \n",
       "\n",
       "   logged_dist  very_active_dist  moderate_active_dist  light_active_dist  \\\n",
       "0          0.0              2.57                  0.46               4.07   \n",
       "1          0.0              6.92                  0.73               3.91   \n",
       "2          0.0              4.66                  0.16               3.71   \n",
       "3          0.0              3.19                  0.79               4.95   \n",
       "4          0.0              2.16                  1.09               4.61   \n",
       "\n",
       "   sedentary_active_dist  very_active_mins  fairly_active_mins  \\\n",
       "0                    0.0                33                  12   \n",
       "1                    0.0                89                  17   \n",
       "2                    0.0                56                   5   \n",
       "3                    0.0                39                  20   \n",
       "4                    0.0                28                  28   \n",
       "\n",
       "   lightly_active_mins  sedentary_mins  total_mins  total_hours  calories  \n",
       "0                  205             804         NaN          NaN      1819  \n",
       "1                  274             588         NaN          NaN      2154  \n",
       "2                  268             605         NaN          NaN      1944  \n",
       "3                  224            1080         NaN          NaN      1932  \n",
       "4                  243             763         NaN          NaN      1886  "
      ]
     },
     "execution_count": 14,
     "metadata": {},
     "output_type": "execute_result"
    }
   ],
   "source": [
    "# rename columns\n",
    "df_activity.rename(columns = {\"Id\":\"id\", \"ActivityDate\":\"date\", \"DayOfTheWeek\":\"day_of_the_week\", \"TotalSteps\":\"total_steps\", \"TotalDistance\":\"total_dist\", \"TrackerDistance\":\"track_dist\", \"LoggedActivitiesDistance\":\"logged_dist\", \"VeryActiveDistance\":\"very_active_dist\", \"ModeratelyActiveDistance\":\"moderate_active_dist\", \"LightActiveDistance\":\"light_active_dist\", \"SedentaryActiveDistance\":\"sedentary_active_dist\", \"VeryActiveMinutes\":\"very_active_mins\", \"FairlyActiveMinutes\":\"fairly_active_mins\", \"LightlyActiveMinutes\":\"lightly_active_mins\", \"SedentaryMinutes\":\"sedentary_mins\", \"TotalExerciseMinutes\":\"total_mins\",\"TotalExerciseHours\":\"total_hours\",\"Calories\":\"calories\"}, inplace = True)\n",
    "\n",
    "# print column names to confirm\n",
    "print(df_activity.columns.values)\n",
    "df_activity.head(5)"
   ]
  },
  {
   "cell_type": "markdown",
   "id": "surprised-invasion",
   "metadata": {
    "papermill": {
     "duration": 0.03661,
     "end_time": "2021-07-09T05:00:55.368904",
     "exception": false,
     "start_time": "2021-07-09T05:00:55.332294",
     "status": "completed"
    },
    "tags": []
   },
   "source": [
    "To create a new column named `total_mins` representing the sum of the total time logged, we'll sum the columns `VeryActiveMinutes`, `FairlyActiveMinutes`, `LightlyActiveMinutes`, and `SedentaryMinutes` for each row. This will give us the total duration of activity in minutes for each entry in the dataset. Let's proceed with this calculation."
   ]
  },
  {
   "cell_type": "code",
   "execution_count": 19,
   "id": "forward-driver",
   "metadata": {
    "_cell_guid": "35932cb2-08ea-4b28-853e-1dedf3ea4930",
    "_uuid": "5c13ee63-3c5c-4e7a-b814-9abc0ea3913c",
    "collapsed": false,
    "execution": {
     "iopub.execute_input": "2021-07-09T05:00:55.434385Z",
     "iopub.status.busy": "2021-07-09T05:00:55.431698Z",
     "iopub.status.idle": "2021-07-09T05:00:55.461031Z",
     "shell.execute_reply": "2021-07-09T05:00:55.461567Z",
     "shell.execute_reply.started": "2021-07-09T05:00:04.894702Z"
    },
    "jupyter": {
     "outputs_hidden": false
    },
    "papermill": {
     "duration": 0.061014,
     "end_time": "2021-07-09T05:00:55.461749",
     "exception": false,
     "start_time": "2021-07-09T05:00:55.400735",
     "status": "completed"
    },
    "tags": []
   },
   "outputs": [
    {
     "data": {
      "text/plain": [
       "0    1054\n",
       "1     968\n",
       "2     934\n",
       "3    1363\n",
       "4    1062\n",
       "Name: total_mins, dtype: int64"
      ]
     },
     "execution_count": 19,
     "metadata": {},
     "output_type": "execute_result"
    }
   ],
   "source": [
    "# create new column \"total_mins\" containing sum of total minutes.\n",
    "df_activity[\"total_mins\"] = df_activity[\"very_active_mins\"] + df_activity[\"fairly_active_mins\"] + df_activity[\"lightly_active_mins\"] + df_activity[\"sedentary_mins\"]\n",
    "df_activity[\"total_mins\"].head(5)"
   ]
  },
  {
   "cell_type": "markdown",
   "id": "running-universe",
   "metadata": {
    "papermill": {
     "duration": 0.029829,
     "end_time": "2021-07-09T05:00:55.519013",
     "exception": false,
     "start_time": "2021-07-09T05:00:55.489184",
     "status": "completed"
    },
    "tags": []
   },
   "source": [
    "To create a new column by converting the `total_mins` column, representing the total time logged in minutes, to the number of hours, we'll simply divide the `total_mins` column by 60 (since there are 60 minutes in an hour). This will give us the equivalent duration in hours.\n",
    "\n",
    "Let's proceed with this calculation to create the new column."
   ]
  },
  {
   "cell_type": "code",
   "execution_count": 20,
   "id": "chemical-recruitment",
   "metadata": {
    "_cell_guid": "4869ce13-fd9b-40f3-b2cc-b5297f0ed9d4",
    "_uuid": "65a3b131-424f-4155-b7d5-a331834383f6",
    "collapsed": false,
    "execution": {
     "iopub.execute_input": "2021-07-09T05:00:55.575839Z",
     "iopub.status.busy": "2021-07-09T05:00:55.574872Z",
     "iopub.status.idle": "2021-07-09T05:00:55.583567Z",
     "shell.execute_reply": "2021-07-09T05:00:55.583024Z",
     "shell.execute_reply.started": "2021-07-09T05:00:04.922029Z"
    },
    "jupyter": {
     "outputs_hidden": false
    },
    "papermill": {
     "duration": 0.03814,
     "end_time": "2021-07-09T05:00:55.583701",
     "exception": false,
     "start_time": "2021-07-09T05:00:55.545561",
     "status": "completed"
    },
    "tags": []
   },
   "outputs": [
    {
     "data": {
      "text/plain": [
       "0    18.0\n",
       "1    16.0\n",
       "2    16.0\n",
       "3    23.0\n",
       "4    18.0\n",
       "Name: total_hours, dtype: float64"
      ]
     },
     "execution_count": 20,
     "metadata": {},
     "output_type": "execute_result"
    }
   ],
   "source": [
    "# create new column *total_hours* by converting to hour and round float to two decimal places\n",
    "df_activity[\"total_hours\"] = round(df_activity[\"total_mins\"] / 60)\n",
    "\n",
    "# print 1st 5 rows to confirm\n",
    "df_activity[\"total_hours\"].head(5)"
   ]
  },
  {
   "cell_type": "markdown",
   "id": "italic-truth",
   "metadata": {
    "papermill": {
     "duration": 0.028779,
     "end_time": "2021-07-09T05:00:55.692978",
     "exception": false,
     "start_time": "2021-07-09T05:00:55.664199",
     "status": "completed"
    },
    "tags": []
   },
   "source": [
    "# Step 4: Analyze\n",
    "\n",
    "## 4.1 Perform Calculations\n",
    "\n",
    "To initiate the analysis process, we'll compute the following statistics for the `df_activity` dataset:\n",
    "\n",
    "- Count: Number of rows in the dataset.\n",
    "- Mean: Average value across all numerical columns.\n",
    "- Standard Deviation: Measure of the dispersion or spread of data.\n",
    "- Minimum and Maximum: The smallest and largest values in each numerical column.\n",
    "- Percentiles: Values below which a given percentage of observations fall.\n",
    "\n",
    "Let's proceed with computing these statistics for further analysis.\n",
    "\n",
    "We will use the `describe()` method in Pandas to generate these statistics for the `df_activity` dataset. This method provides a comprehensive summary of the numerical columns in the dataset, including count, mean, standard deviation, minimum, percentiles, and maximum values. Let's calculate these statistics."
   ]
  },
  {
   "cell_type": "code",
   "execution_count": 21,
   "id": "metropolitan-kentucky",
   "metadata": {
    "_cell_guid": "540e3ee4-f56d-4979-a483-6e2deebc3fd0",
    "_uuid": "5a0f8f34-8675-483a-9255-16fbdd8d5f0d",
    "collapsed": false,
    "execution": {
     "iopub.execute_input": "2021-07-09T05:00:55.750389Z",
     "iopub.status.busy": "2021-07-09T05:00:55.749451Z",
     "iopub.status.idle": "2021-07-09T05:00:55.804173Z",
     "shell.execute_reply": "2021-07-09T05:00:55.804601Z",
     "shell.execute_reply.started": "2021-07-09T05:00:04.932553Z"
    },
    "jupyter": {
     "outputs_hidden": false
    },
    "papermill": {
     "duration": 0.084903,
     "end_time": "2021-07-09T05:00:55.804763",
     "exception": false,
     "start_time": "2021-07-09T05:00:55.719860",
     "status": "completed"
    },
    "tags": []
   },
   "outputs": [
    {
     "data": {
      "text/html": [
       "<div>\n",
       "<style scoped>\n",
       "    .dataframe tbody tr th:only-of-type {\n",
       "        vertical-align: middle;\n",
       "    }\n",
       "\n",
       "    .dataframe tbody tr th {\n",
       "        vertical-align: top;\n",
       "    }\n",
       "\n",
       "    .dataframe thead th {\n",
       "        text-align: right;\n",
       "    }\n",
       "</style>\n",
       "<table border=\"1\" class=\"dataframe\">\n",
       "  <thead>\n",
       "    <tr style=\"text-align: right;\">\n",
       "      <th></th>\n",
       "      <th>id</th>\n",
       "      <th>date</th>\n",
       "      <th>total_steps</th>\n",
       "      <th>total_dist</th>\n",
       "      <th>track_dist</th>\n",
       "      <th>logged_dist</th>\n",
       "      <th>very_active_dist</th>\n",
       "      <th>moderate_active_dist</th>\n",
       "      <th>light_active_dist</th>\n",
       "      <th>sedentary_active_dist</th>\n",
       "      <th>very_active_mins</th>\n",
       "      <th>fairly_active_mins</th>\n",
       "      <th>lightly_active_mins</th>\n",
       "      <th>sedentary_mins</th>\n",
       "      <th>total_mins</th>\n",
       "      <th>total_hours</th>\n",
       "      <th>calories</th>\n",
       "    </tr>\n",
       "  </thead>\n",
       "  <tbody>\n",
       "    <tr>\n",
       "      <th>count</th>\n",
       "      <td>4.570000e+02</td>\n",
       "      <td>457</td>\n",
       "      <td>457.000000</td>\n",
       "      <td>457.000000</td>\n",
       "      <td>457.000000</td>\n",
       "      <td>457.000000</td>\n",
       "      <td>457.000000</td>\n",
       "      <td>457.000000</td>\n",
       "      <td>457.000000</td>\n",
       "      <td>457.000000</td>\n",
       "      <td>457.000000</td>\n",
       "      <td>457.000000</td>\n",
       "      <td>457.000000</td>\n",
       "      <td>457.000000</td>\n",
       "      <td>457.000000</td>\n",
       "      <td>457.000000</td>\n",
       "      <td>457.000000</td>\n",
       "    </tr>\n",
       "    <tr>\n",
       "      <th>mean</th>\n",
       "      <td>4.628595e+09</td>\n",
       "      <td>2016-04-04 04:40:26.258205696</td>\n",
       "      <td>6546.562363</td>\n",
       "      <td>4.663523</td>\n",
       "      <td>4.609847</td>\n",
       "      <td>0.179427</td>\n",
       "      <td>1.180897</td>\n",
       "      <td>0.478643</td>\n",
       "      <td>2.890197</td>\n",
       "      <td>0.001904</td>\n",
       "      <td>16.623632</td>\n",
       "      <td>13.070022</td>\n",
       "      <td>170.070022</td>\n",
       "      <td>995.282276</td>\n",
       "      <td>1195.045952</td>\n",
       "      <td>19.919037</td>\n",
       "      <td>2189.452954</td>\n",
       "    </tr>\n",
       "    <tr>\n",
       "      <th>min</th>\n",
       "      <td>1.503960e+09</td>\n",
       "      <td>2016-03-12 00:00:00</td>\n",
       "      <td>0.000000</td>\n",
       "      <td>0.000000</td>\n",
       "      <td>0.000000</td>\n",
       "      <td>0.000000</td>\n",
       "      <td>0.000000</td>\n",
       "      <td>0.000000</td>\n",
       "      <td>0.000000</td>\n",
       "      <td>0.000000</td>\n",
       "      <td>0.000000</td>\n",
       "      <td>0.000000</td>\n",
       "      <td>0.000000</td>\n",
       "      <td>32.000000</td>\n",
       "      <td>41.000000</td>\n",
       "      <td>1.000000</td>\n",
       "      <td>0.000000</td>\n",
       "    </tr>\n",
       "    <tr>\n",
       "      <th>25%</th>\n",
       "      <td>2.347168e+09</td>\n",
       "      <td>2016-04-02 00:00:00</td>\n",
       "      <td>1988.000000</td>\n",
       "      <td>1.410000</td>\n",
       "      <td>1.280000</td>\n",
       "      <td>0.000000</td>\n",
       "      <td>0.000000</td>\n",
       "      <td>0.000000</td>\n",
       "      <td>0.870000</td>\n",
       "      <td>0.000000</td>\n",
       "      <td>0.000000</td>\n",
       "      <td>0.000000</td>\n",
       "      <td>64.000000</td>\n",
       "      <td>728.000000</td>\n",
       "      <td>985.000000</td>\n",
       "      <td>16.000000</td>\n",
       "      <td>1776.000000</td>\n",
       "    </tr>\n",
       "    <tr>\n",
       "      <th>50%</th>\n",
       "      <td>4.057193e+09</td>\n",
       "      <td>2016-04-05 00:00:00</td>\n",
       "      <td>5986.000000</td>\n",
       "      <td>4.090000</td>\n",
       "      <td>4.090000</td>\n",
       "      <td>0.000000</td>\n",
       "      <td>0.000000</td>\n",
       "      <td>0.020000</td>\n",
       "      <td>2.930000</td>\n",
       "      <td>0.000000</td>\n",
       "      <td>0.000000</td>\n",
       "      <td>1.000000</td>\n",
       "      <td>181.000000</td>\n",
       "      <td>1057.000000</td>\n",
       "      <td>1440.000000</td>\n",
       "      <td>24.000000</td>\n",
       "      <td>2062.000000</td>\n",
       "    </tr>\n",
       "    <tr>\n",
       "      <th>75%</th>\n",
       "      <td>6.391747e+09</td>\n",
       "      <td>2016-04-08 00:00:00</td>\n",
       "      <td>10198.000000</td>\n",
       "      <td>7.160000</td>\n",
       "      <td>7.110000</td>\n",
       "      <td>0.000000</td>\n",
       "      <td>1.310000</td>\n",
       "      <td>0.670000</td>\n",
       "      <td>4.460000</td>\n",
       "      <td>0.000000</td>\n",
       "      <td>25.000000</td>\n",
       "      <td>16.000000</td>\n",
       "      <td>257.000000</td>\n",
       "      <td>1285.000000</td>\n",
       "      <td>1440.000000</td>\n",
       "      <td>24.000000</td>\n",
       "      <td>2667.000000</td>\n",
       "    </tr>\n",
       "    <tr>\n",
       "      <th>max</th>\n",
       "      <td>8.877689e+09</td>\n",
       "      <td>2016-04-12 00:00:00</td>\n",
       "      <td>28497.000000</td>\n",
       "      <td>27.530001</td>\n",
       "      <td>27.530001</td>\n",
       "      <td>6.727057</td>\n",
       "      <td>21.920000</td>\n",
       "      <td>6.400000</td>\n",
       "      <td>12.510000</td>\n",
       "      <td>0.100000</td>\n",
       "      <td>202.000000</td>\n",
       "      <td>660.000000</td>\n",
       "      <td>720.000000</td>\n",
       "      <td>1440.000000</td>\n",
       "      <td>1440.000000</td>\n",
       "      <td>24.000000</td>\n",
       "      <td>4562.000000</td>\n",
       "    </tr>\n",
       "    <tr>\n",
       "      <th>std</th>\n",
       "      <td>2.293781e+09</td>\n",
       "      <td>NaN</td>\n",
       "      <td>5398.493064</td>\n",
       "      <td>4.082072</td>\n",
       "      <td>4.068540</td>\n",
       "      <td>0.849232</td>\n",
       "      <td>2.487159</td>\n",
       "      <td>0.830995</td>\n",
       "      <td>2.237523</td>\n",
       "      <td>0.008487</td>\n",
       "      <td>28.919704</td>\n",
       "      <td>36.208635</td>\n",
       "      <td>122.205372</td>\n",
       "      <td>337.021404</td>\n",
       "      <td>306.457382</td>\n",
       "      <td>5.123904</td>\n",
       "      <td>815.484523</td>\n",
       "    </tr>\n",
       "  </tbody>\n",
       "</table>\n",
       "</div>"
      ],
      "text/plain": [
       "                 id                           date   total_steps  total_dist  \\\n",
       "count  4.570000e+02                            457    457.000000  457.000000   \n",
       "mean   4.628595e+09  2016-04-04 04:40:26.258205696   6546.562363    4.663523   \n",
       "min    1.503960e+09            2016-03-12 00:00:00      0.000000    0.000000   \n",
       "25%    2.347168e+09            2016-04-02 00:00:00   1988.000000    1.410000   \n",
       "50%    4.057193e+09            2016-04-05 00:00:00   5986.000000    4.090000   \n",
       "75%    6.391747e+09            2016-04-08 00:00:00  10198.000000    7.160000   \n",
       "max    8.877689e+09            2016-04-12 00:00:00  28497.000000   27.530001   \n",
       "std    2.293781e+09                            NaN   5398.493064    4.082072   \n",
       "\n",
       "       track_dist  logged_dist  very_active_dist  moderate_active_dist  \\\n",
       "count  457.000000   457.000000        457.000000            457.000000   \n",
       "mean     4.609847     0.179427          1.180897              0.478643   \n",
       "min      0.000000     0.000000          0.000000              0.000000   \n",
       "25%      1.280000     0.000000          0.000000              0.000000   \n",
       "50%      4.090000     0.000000          0.000000              0.020000   \n",
       "75%      7.110000     0.000000          1.310000              0.670000   \n",
       "max     27.530001     6.727057         21.920000              6.400000   \n",
       "std      4.068540     0.849232          2.487159              0.830995   \n",
       "\n",
       "       light_active_dist  sedentary_active_dist  very_active_mins  \\\n",
       "count         457.000000             457.000000        457.000000   \n",
       "mean            2.890197               0.001904         16.623632   \n",
       "min             0.000000               0.000000          0.000000   \n",
       "25%             0.870000               0.000000          0.000000   \n",
       "50%             2.930000               0.000000          0.000000   \n",
       "75%             4.460000               0.000000         25.000000   \n",
       "max            12.510000               0.100000        202.000000   \n",
       "std             2.237523               0.008487         28.919704   \n",
       "\n",
       "       fairly_active_mins  lightly_active_mins  sedentary_mins   total_mins  \\\n",
       "count          457.000000           457.000000      457.000000   457.000000   \n",
       "mean            13.070022           170.070022      995.282276  1195.045952   \n",
       "min              0.000000             0.000000       32.000000    41.000000   \n",
       "25%              0.000000            64.000000      728.000000   985.000000   \n",
       "50%              1.000000           181.000000     1057.000000  1440.000000   \n",
       "75%             16.000000           257.000000     1285.000000  1440.000000   \n",
       "max            660.000000           720.000000     1440.000000  1440.000000   \n",
       "std             36.208635           122.205372      337.021404   306.457382   \n",
       "\n",
       "       total_hours     calories  \n",
       "count   457.000000   457.000000  \n",
       "mean     19.919037  2189.452954  \n",
       "min       1.000000     0.000000  \n",
       "25%      16.000000  1776.000000  \n",
       "50%      24.000000  2062.000000  \n",
       "75%      24.000000  2667.000000  \n",
       "max      24.000000  4562.000000  \n",
       "std       5.123904   815.484523  "
      ]
     },
     "execution_count": 21,
     "metadata": {},
     "output_type": "execute_result"
    }
   ],
   "source": [
    "# pull general statistics\n",
    "df_activity.describe()"
   ]
  },
  {
   "cell_type": "markdown",
   "id": "engaged-newman",
   "metadata": {
    "papermill": {
     "duration": 0.0275,
     "end_time": "2021-07-09T05:00:55.859933",
     "exception": false,
     "start_time": "2021-07-09T05:00:55.832433",
     "status": "completed"
    },
    "tags": []
   },
   "source": [
    "Based on the statistical findings:\n",
    "\n",
    "1. The average number of steps logged by users is 7,637, equivalent to approximately 5.4 kilometers. This falls short of the recommended 10,000 steps or 8 kilometers per day suggested by the CDC for optimal health, weight management, and fitness improvement ([Source: Medical News Today article](https://www.medicalnewstoday.com/articles/how-many-steps-should-you-take-a-day)).\n",
    "\n",
    "2. Sedentary behavior appears to be prevalent among users, with an average of 991 minutes, or approximately 20 hours, logged as sedentary activity. This comprises 81% of the total average minutes logged.\n",
    "\n",
    "3. The average calories burned is calculated to be 2,303 calories, equivalent to approximately 0.6 pounds. It's important to note that the interpretation of calorie burn may vary significantly based on individual factors such as age, weight, daily activities, exercise regimen, hormonal balance, and daily calorie intake ([Source: Health Line article](https://www.healthline.com/health/fitness-exercise/how-many-calories-do-i-burn-a-day#Burning-calories)).\n",
    "\n",
    "These findings highlight areas where users may need encouragement or interventions to increase physical activity levels and promote overall health and well-being."
   ]
  },
  {
   "cell_type": "markdown",
   "id": "premium-officer",
   "metadata": {
    "papermill": {
     "duration": 0.02716,
     "end_time": "2021-07-09T05:00:55.914676",
     "exception": false,
     "start_time": "2021-07-09T05:00:55.887516",
     "status": "completed"
    },
    "tags": []
   },
   "source": [
    "# Step 5: Visualize\n",
    "\n",
    "## 5.1 Data Visualization and Findings\n",
    "\n",
    "In this step, we will leverage data visualization techniques to effectively communicate our findings derived from the analysis. Visualizations serve as powerful tools for presenting complex information in a clear and concise manner, enabling stakeholders to grasp key insights quickly and intuitively.\n",
    "\n",
    "Let's proceed with creating visualizations and sharing our findings based on the analysis."
   ]
  },
  {
   "cell_type": "code",
   "execution_count": 27,
   "id": "indirect-manufacturer",
   "metadata": {
    "execution": {
     "iopub.execute_input": "2021-07-09T05:00:55.972868Z",
     "iopub.status.busy": "2021-07-09T05:00:55.972281Z",
     "iopub.status.idle": "2021-07-09T05:00:56.168909Z",
     "shell.execute_reply": "2021-07-09T05:00:56.168332Z",
     "shell.execute_reply.started": "2021-07-09T05:00:05.005581Z"
    },
    "papermill": {
     "duration": 0.226614,
     "end_time": "2021-07-09T05:00:56.169062",
     "exception": false,
     "start_time": "2021-07-09T05:00:55.942448",
     "status": "completed"
    },
    "tags": []
   },
   "outputs": [
    {
     "data": {
      "image/png": "[encoded data removed]",
      "text/plain": [
       "<Figure size 800x500 with 1 Axes>"
      ]
     },
     "metadata": {},
     "output_type": "display_data"
    }
   ],
   "source": [
    "import matplotlib.pyplot as plt\n",
    "import seaborn as sns\n",
    "\n",
    "# Use seaborn style for better aesthetics\n",
    "sns.set(style=\"whitegrid\")\n",
    "plt.figure(figsize=(8, 5))  \n",
    "plt.hist(df_activity.day_of_the_week, bins=7, \n",
    "         width=0.6, color=\"#66c2a5\", edgecolor=\"#328a6e\", linewidth=1.2)\n",
    "\n",
    "day_labels = [\"Mon\", \"Tue\", \"Wed\", \"Thu\", \"Fri\", \"Sat\", \"Sun\"]\n",
    "plt.xticks(ticks=range(1, 8), labels=day_labels)\n",
    "plt.xlabel(\"Day of the Week\", fontsize=12)\n",
    "plt.ylabel(\"Number of Logins\", fontsize=12)\n",
    "plt.title(\"User Login Frequency Across the Week\", fontsize=14, weight='bold')\n",
    "plt.grid(axis='y', linestyle='--', alpha=0.7)\n",
    "plt.tight_layout()\n",
    "plt.show()\n"
   ]
  },
  {
   "cell_type": "markdown",
   "id": "juvenile-mother",
   "metadata": {
    "papermill": {
     "duration": 0.028844,
     "end_time": "2021-07-09T05:00:56.227030",
     "exception": false,
     "start_time": "2021-07-09T05:00:56.198186",
     "status": "completed"
    },
    "tags": []
   },
   "source": [
    "### **Frequency of Usage Across the Week**\n",
    "\n",
    "In this histogram, we examine the frequency of FitBit app usage categorized by days of the week.\n",
    "\n",
    "1. Analysis reveals a notable concentration of user activity tracking within the midweek period, particularly from Tuesday to Friday.\n",
    "\n",
    "2. Interestingly, there is a decline in usage frequency observed on Fridays, which persists throughout the weekend and into Monday.\n",
    "\n",
    "This pattern suggests a potential trend in user engagement with the FitBit app, with heightened activity tracking during weekdays compared to weekends."
   ]
  },
  {
   "cell_type": "code",
   "execution_count": 24,
   "id": "million-framework",
   "metadata": {
    "execution": {
     "iopub.execute_input": "2021-07-09T05:00:56.313051Z",
     "iopub.status.busy": "2021-07-09T05:00:56.312063Z",
     "iopub.status.idle": "2021-07-09T05:00:56.607446Z",
     "shell.execute_reply": "2021-07-09T05:00:56.607904Z",
     "shell.execute_reply.started": "2021-07-09T05:00:05.215972Z"
    },
    "papermill": {
     "duration": 0.352053,
     "end_time": "2021-07-09T05:00:56.608071",
     "exception": false,
     "start_time": "2021-07-09T05:00:56.256018",
     "status": "completed"
    },
    "tags": []
   },
   "outputs": [
    {
     "data": {
      "image/png": "[encoded data removed]",
      "text/plain": [
       "<Figure size 800x600 with 2 Axes>"
      ]
     },
     "metadata": {},
     "output_type": "display_data"
    }
   ],
   "source": [
    "# import matplotlib package\n",
    "import matplotlib.pyplot as plt\n",
    "\n",
    "# plotting scatter plot\n",
    "plt.style.use(\"default\")\n",
    "plt.figure(figsize=(8,6)) # specify size of the chart\n",
    "plt.scatter(df_activity.total_steps, df_activity.calories, \n",
    "            alpha = 0.8, c = df_activity.calories, \n",
    "            cmap = \"Spectral\")\n",
    "\n",
    "# add annotations and visuals\n",
    "median_calories = 2303\n",
    "median_steps = 7637\n",
    "\n",
    "plt.colorbar(orientation = \"vertical\")\n",
    "plt.axvline(median_steps, color = \"Blue\", label = \"Median steps\")\n",
    "plt.axhline(median_calories, color = \"Red\", label = \"Median calories burned\")\n",
    "plt.xlabel(\"Steps taken\")\n",
    "plt.ylabel(\"Calories burned\")\n",
    "plt.title(\"Calories burned for every step taken\")\n",
    "plt.grid(True)\n",
    "plt.legend()\n",
    "plt.show()"
   ]
  },
  {
   "cell_type": "markdown",
   "id": "comfortable-logan",
   "metadata": {
    "papermill": {
     "duration": 0.031798,
     "end_time": "2021-07-09T05:00:56.672283",
     "exception": false,
     "start_time": "2021-07-09T05:00:56.640485",
     "status": "completed"
    },
    "tags": []
   },
   "source": [
    "### **Calories Burned for Every Step Taken**\n",
    "\n",
    "From the scatter plot analysis, the following insights were derived:\n",
    "\n",
    "1. Positive Correlation: A positive correlation is evident between the number of steps taken and the calories burned.\n",
    "\n",
    "2. Intensity Variation: The intensity of calories burned increases as users accumulate steps within the range of > 0 to 15,000 steps, with a gradual decrease observed beyond 15,000 steps.\n",
    "\n",
    "3. Outlier Observations:\n",
    "   - Instances of zero steps correspond to zero or minimal calories burned, indicating negligible physical activity.\n",
    "   - A single observation displays a notably high number of steps (> 35,000) coupled with a relatively low calorie burn rate (< 3,000 calories).\n",
    "   - These outliers may arise from natural data variation, fluctuations in user behavior, or potential errors in data collection processes such as miscalculations, data contamination, or human error. Further investigation may be warranted to discern the underlying causes of these anomalies."
   ]
  },
  {
   "cell_type": "code",
   "execution_count": 25,
   "id": "fossil-parcel",
   "metadata": {
    "execution": {
     "iopub.execute_input": "2021-07-09T05:00:56.774401Z",
     "iopub.status.busy": "2021-07-09T05:00:56.773430Z",
     "iopub.status.idle": "2021-07-09T05:00:57.125340Z",
     "shell.execute_reply": "2021-07-09T05:00:57.125865Z",
     "shell.execute_reply.started": "2021-07-09T05:00:05.590969Z"
    },
    "papermill": {
     "duration": 0.406883,
     "end_time": "2021-07-09T05:00:57.126031",
     "exception": false,
     "start_time": "2021-07-09T05:00:56.719148",
     "status": "completed"
    },
    "tags": []
   },
   "outputs": [
    {
     "data": {
      "image/png": "[encoded data removed]",
      "text/plain": [
       "<Figure size 800x600 with 2 Axes>"
      ]
     },
     "metadata": {},
     "output_type": "display_data"
    }
   ],
   "source": [
    "# import matplotlib package\n",
    "import matplotlib.pyplot as plt\n",
    "\n",
    "# plotting scatter plot\n",
    "plt.style.use(\"default\")\n",
    "plt.figure(figsize=(8,6)) # Specify size of the chart\n",
    "plt.scatter(df_activity.total_hours, df_activity.calories, \n",
    "            alpha = 0.8, c = df_activity.calories, \n",
    "            cmap = \"Spectral\")\n",
    "\n",
    "# adding annotations and visuals\n",
    "median_calories = 2303\n",
    "median_hours = 20\n",
    "median_sedentary = 991 / 60\n",
    "\n",
    "plt.colorbar(orientation = \"vertical\")\n",
    "plt.axvline(median_hours, color = \"Blue\", label = \"Median steps\")\n",
    "plt.axvline(median_sedentary, color = \"Purple\", label = \"Median sedentary\")\n",
    "plt.axhline(median_calories, color = \"Red\", label = \"Median hours\")\n",
    "plt.xlabel(\"Hours logged\")\n",
    "plt.ylabel(\"Calories burned\")\n",
    "plt.title(\"Calories burned for every hour logged\")\n",
    "plt.legend()\n",
    "plt.grid(True)\n",
    "plt.show()"
   ]
  },
  {
   "cell_type": "markdown",
   "id": "facial-bubble",
   "metadata": {
    "papermill": {
     "duration": 0.034935,
     "end_time": "2021-07-09T05:00:57.195980",
     "exception": false,
     "start_time": "2021-07-09T05:00:57.161045",
     "status": "completed"
    },
    "tags": []
   },
   "source": [
    "### **Calories Burned for Every Hour Logged**\n",
    "\n",
    "The scatter plot analysis reveals the following:\n",
    "\n",
    "1. Weak Positive Correlation: There is a weak positive correlation observed between the number of hours logged and the calories burned. However, this correlation is not significant, primarily influenced by the presence of sedentary hours (illustrated by the purple line) clustered in the 16 to 17-hour range.\n",
    "\n",
    "2. Outlier Identification:\n",
    "   - Similar to previous observations, instances of zero values indicate minimal or no calories burned, likely corresponding to periods of inactivity.\n",
    "   - An atypical red data point is evident at the 24-hour mark, indicating zero calories burned. This anomaly may be attributed to the aforementioned factors, including natural data variation or errors in data collection processes.\n",
    "\n",
    "These outliers warrant further scrutiny to discern their underlying causes and implications for the analysis."
   ]
  },
  {
   "cell_type": "code",
   "execution_count": 34,
   "id": "northern-pennsylvania",
   "metadata": {
    "execution": {
     "iopub.execute_input": "2021-07-09T05:00:57.296926Z",
     "iopub.status.busy": "2021-07-09T05:00:57.292645Z",
     "iopub.status.idle": "2021-07-09T05:00:57.481295Z",
     "shell.execute_reply": "2021-07-09T05:00:57.480810Z",
     "shell.execute_reply.started": "2021-07-09T05:00:05.939369Z"
    },
    "papermill": {
     "duration": 0.248954,
     "end_time": "2021-07-09T05:00:57.481439",
     "exception": false,
     "start_time": "2021-07-09T05:00:57.232485",
     "status": "completed"
    },
    "tags": []
   },
   "outputs": [
    {
     "data": {
      "image/png": "[encoded data removed]",
      "text/plain": [
       "<Figure size 700x700 with 1 Axes>"
      ]
     },
     "metadata": {},
     "output_type": "display_data"
    }
   ],
   "source": [
    "import matplotlib.pyplot as plt\n",
    "import seaborn as sns\n",
    "\n",
    "# Set seaborn style for clean white grid background\n",
    "sns.set_style(\"whitegrid\")\n",
    "\n",
    "# Calculate total minutes for each activity type\n",
    "very_active_mins = df_activity[\"very_active_mins\"].sum()\n",
    "fairly_active_mins = df_activity[\"fairly_active_mins\"].sum()\n",
    "lightly_active_mins = df_activity[\"lightly_active_mins\"].sum()\n",
    "sedentary_mins = df_activity[\"sedentary_mins\"].sum()\n",
    "\n",
    "# Prepare data for pie chart\n",
    "slices = [very_active_mins, fairly_active_mins, lightly_active_mins, sedentary_mins]\n",
    "labels = [\"Very active minutes\", \"Fairly active minutes\", \"Lightly active minutes\", \"Sedentary minutes\"]\n",
    "colors = [\"#FF6F61\", \"#6B8E23\", \"#87CEEB\", \"#FF8C00\"]  # neat distinct colors\n",
    "explode = [0, 0, 0, 0.1]  # highlight sedentary minutes slice\n",
    "\n",
    "# Plot pie chart\n",
    "plt.figure(figsize=(7,7))\n",
    "plt.pie(\n",
    "    slices,\n",
    "    labels=labels,\n",
    "    explode=explode,\n",
    "    autopct=\"%1.1f%%\",\n",
    "    startangle=140,\n",
    "    wedgeprops={\"edgecolor\": \"black\"},\n",
    "    colors=colors,\n",
    "    textprops={\"fontsize\": 12}\n",
    ")\n",
    "\n",
    "plt.title(\"Percentage of Activity in Minutes\", fontsize=16)\n",
    "plt.tight_layout()\n",
    "plt.show()\n"
   ]
  },
  {
   "cell_type": "markdown",
   "id": "excessive-concern",
   "metadata": {
    "papermill": {
     "duration": 0.039114,
     "end_time": "2021-07-09T05:00:57.559919",
     "exception": false,
     "start_time": "2021-07-09T05:00:57.520805",
     "status": "completed"
    },
    "tags": []
   },
   "source": [
    "**Proportion of Activity in Minutes**\n",
    "\n",
    "As observed from the pie chart:\n",
    "\n",
    "1. Sedentary minutes comprise the largest proportion at 81.3%.\n",
    "\n",
    "2. This suggests that users primarily utilize the FitBit app to log routine daily activities such as commuting, sedentary movements (e.g., shifting from one location to another), or completing errands.\n",
    "\n",
    "3. The app is infrequently employed for tracking fitness activities such as running, as evidenced by the minor percentages of fairly active activity (1.1%) and very active activity (1.7%). This trend is concerning, considering that the FitBit app is designed to promote and facilitate fitness endeavors."
   ]
  },
  {
   "cell_type": "markdown",
   "id": "legislative-reform",
   "metadata": {
    "papermill": {
     "duration": 0.039344,
     "end_time": "2021-07-09T05:00:57.638878",
     "exception": false,
     "start_time": "2021-07-09T05:00:57.599534",
     "status": "completed"
    },
    "tags": []
   },
   "source": [
    "# Step 6: Act/Implementation\n",
    "\n",
    "In the final stage, we move from analysis to implementation, where we present our findings and propose actionable recommendations based on our analysis.\n",
    "\n",
    "Let's address the key questions and formulate actionable insights:\n",
    "\n",
    "**1. What insights can we derive from the data?**\n",
    "\n",
    "* Predominantly, users (81.3%) are utilizing the FitBit app to monitor sedentary activities rather than actively tracking their health and fitness habits.\n",
    "\n",
    "* A notable trend indicates higher activity tracking during weekdays compared to weekends, suggesting potential variations in user behavior based on weekly routines.\n",
    "\n",
    "**2. How can these insights be translated to benefit Bellabeat's clientele?**\n",
    "\n",
    "* The observed user behaviors resonate with Bellabeat's target audience, emphasizing the importance of empowering women with comprehensive health and fitness insights to facilitate informed decision-making.\n",
    "\n",
    "**3. What strategic implications do these insights offer for Bellabeat's marketing approach?**\n",
    "\n",
    "* Leveraging these insights, Bellabeat can tailor its marketing efforts to emphasize the importance of holistic health monitoring, integrating features that encourage regular physical activity and promote healthy lifestyle choices.\n",
    "\n",
    "* Capitalizing on the observed weekday peak in activity tracking, Bellabeat can strategically deploy targeted marketing campaigns and engagement initiatives during these periods to maximize user interaction and retention."
   ]
  }
 ],
 "metadata": {
  "kernelspec": {
   "display_name": "Python 3",
   "language": "python",
   "name": "python3"
  },
  "language_info": {
   "codemirror_mode": {
    "name": "ipython",
    "version": 3
   },
   "file_extension": ".py",
   "mimetype": "text/x-python",
   "name": "python",
   "nbconvert_exporter": "python",
   "pygments_lexer": "ipython3",
   "version": "3.13.3"
  },
  "papermill": {
   "default_parameters": {},
   "duration": 11.757262,
   "end_time": "2021-07-09T05:00:58.288749",
   "environment_variables": {},
   "exception": null,
   "input_path": "__notebook__.ipynb",
   "output_path": "__notebook__.ipynb",
   "parameters": {},
   "start_time": "2021-07-09T05:00:46.531487",
   "version": "2.3.3"
  }
 },
 "nbformat": 4,
 "nbformat_minor": 5
}
